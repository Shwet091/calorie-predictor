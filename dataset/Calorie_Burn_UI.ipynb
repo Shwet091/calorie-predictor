{
 "cells": [
  {
   "cell_type": "markdown",
   "id": "cdb9cd81",
   "metadata": {},
   "source": [
    "# Streamlit UI for Calorie Burn Prediction"
   ]
  },
  {
   "cell_type": "code",
   "execution_count": null,
   "id": "914ea39e",
   "metadata": {},
   "outputs": [],
   "source": [
    "import streamlit as st\n",
    "import pandas as pd\n",
    "import numpy as np\n",
    "import joblib\n",
    "import openai  # For chatbot functionality\n",
    "\n",
    "# Load trained model (Replace 'calorie_model.pkl' with your model)\n",
    "model = joblib.load(\"calorie_model.pkl\")\n",
    "\n",
    "# Function to predict calorie burn\n",
    "def predict_calories(age, gender, height, weight, duration, heart_rate, body_temp):\n",
    "    gender_encoded = 1 if gender == \"Male\" else 0  # Encode gender\n",
    "    features = np.array([[gender_encoded, age, height, weight, duration, heart_rate, body_temp]])\n",
    "    prediction = model.predict(features)[0]\n",
    "    return round(prediction, 2)\n",
    "\n",
    "# Function to generate a simple diet plan\n",
    "def generate_diet_plan(calories):\n",
    "    if calories < 1500:\n",
    "        return \"Low-Calorie Diet: Fruits, Vegetables, Lean Protein, Whole Grains.\"\n",
    "    elif 1500 <= calories <= 2500:\n",
    "        return \"Balanced Diet: Protein, Carbs, Healthy Fats, Vegetables, Dairy.\"\n",
    "    else:\n",
    "        return \"High-Calorie Diet: Protein-rich foods, Nuts, Whole Grains, Dairy.\"\n",
    "\n",
    "# Chatbot function (Uses OpenAI API, replace with your key)\n",
    "openai.api_key = \"YOUR_OPENAI_API_KEY\"\n",
    "def chatbot_response(user_input):\n",
    "    response = openai.ChatCompletion.create(\n",
    "        model=\"gpt-3.5-turbo\",\n",
    "        messages=[{\"role\": \"user\", \"content\": user_input}]\n",
    "    )\n",
    "    return response[\"choices\"][0][\"message\"][\"content\"]\n",
    "\n",
    "# Streamlit UI\n",
    "st.title(\"Calorie Burn Predictor & Diet Planner\")\n",
    "\n",
    "# User input fields\n",
    "age = st.number_input(\"Age\", min_value=10, max_value=100, value=25)\n",
    "gender = st.selectbox(\"Gender\", [\"Male\", \"Female\"])\n",
    "height = st.number_input(\"Height (cm)\", min_value=100, max_value=250, value=170)\n",
    "weight = st.number_input(\"Weight (kg)\", min_value=30, max_value=200, value=70)\n",
    "duration = st.number_input(\"Exercise Duration (mins)\", min_value=5, max_value=180, value=30)\n",
    "heart_rate = st.number_input(\"Heart Rate (bpm)\", min_value=50, max_value=200, value=100)\n",
    "body_temp = st.number_input(\"Body Temperature (°C)\", min_value=35.0, max_value=42.0, value=37.5)\n",
    "\n",
    "# Predict button\n",
    "if st.button(\"Predict Calories Burned\"):\n",
    "    calories_burned = predict_calories(age, gender, height, weight, duration, heart_rate, body_temp)\n",
    "    st.success(f\"Estimated Calories Burned: {calories_burned} kcal\")\n",
    "    \n",
    "    # Display diet plan\n",
    "    diet_plan = generate_diet_plan(calories_burned)\n",
    "    st.info(f\"Recommended Diet Plan: {diet_plan}\")\n",
    "\n",
    "# Chatbot Section\n",
    "st.subheader(\"Fitness Chatbot\")\n",
    "user_query = st.text_input(\"Ask me anything about fitness & nutrition:\")\n",
    "if st.button(\"Get Answer\"):\n",
    "    if user_query:\n",
    "        response = chatbot_response(user_query)\n",
    "        st.write(response)\n",
    "    else:\n",
    "        st.warning(\"Please enter a question.\")\n"
   ]
  }
 ],
 "metadata": {
  "kernelspec": {
   "display_name": "base",
   "language": "python",
   "name": "python3"
  },
  "language_info": {
   "name": "python",
   "version": "3.12.7"
  }
 },
 "nbformat": 4,
 "nbformat_minor": 5
}
