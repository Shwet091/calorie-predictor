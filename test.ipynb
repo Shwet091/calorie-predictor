{
 "cells": [
  {
   "cell_type": "code",
   "execution_count": 4,
   "metadata": {},
   "outputs": [
    {
     "name": "stdout",
     "output_type": "stream",
     "text": [
      "✅ API Key is working!\n",
      "Response: I am doing well, thank you for asking! As a large language model, I don't experience emotions or feelings like humans do, but I'm ready and eager to assist you with whatever you need. How can I help you today?\n",
      "\n"
     ]
    }
   ],
   "source": [
    "import google.generativeai as genai\n",
    "import os\n",
    "\n",
    "# Configure Gemini API key\n",
    "genai.configure(api_key=os.getenv(\"GEMINI_API_KEY\"))  # If using environment variable\n",
    "# genai.configure(api_key=\"your-api-key-here\")  # Direct method (not recommended)\n",
    "\n",
    "# Test the API\n",
    "try:\n",
    "    model = genai.GenerativeModel(\"gemini-2.0-flash\")\n",
    "    response = model.generate_content(\"Hello! How are you?\")\n",
    "    print(\"✅ API Key is working!\")\n",
    "    print(\"Response:\", response.text)\n",
    "except Exception as e:\n",
    "    print(\"❌ Error:\", e)\n"
   ]
  }
 ],
 "metadata": {
  "kernelspec": {
   "display_name": "base",
   "language": "python",
   "name": "python3"
  },
  "language_info": {
   "codemirror_mode": {
    "name": "ipython",
    "version": 3
   },
   "file_extension": ".py",
   "mimetype": "text/x-python",
   "name": "python",
   "nbconvert_exporter": "python",
   "pygments_lexer": "ipython3",
   "version": "3.12.7"
  }
 },
 "nbformat": 4,
 "nbformat_minor": 2
}
